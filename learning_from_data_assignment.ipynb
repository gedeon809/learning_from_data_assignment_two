{
 "cells": [
  {
   "cell_type": "code",
   "execution_count": 12,
   "id": "0de38772-19c3-44e8-a870-09a57956a434",
   "metadata": {},
   "outputs": [
    {
     "name": "stdout",
     "output_type": "stream",
     "text": [
      "Mean salary: $ Unnamed: 0                                         38.000000\n",
      "Mean Software Developer Salary (adjusted)      100832.974026\n",
      "Mean Software Developer Salary (unadjusted)    101866.207792\n",
      "Mean Unadjusted Salary (all occupations)        53277.272727\n",
      "Number of Software Developer Jobs               19098.571429\n",
      "Median Home Price                              312701.298701\n",
      "Cost of Living avg                               1414.057143\n",
      "Rent avg                                         3280.429870\n",
      "Cost of Living Plus Rent avg                     6506.988312\n",
      "Local Purchasing Power avg                       7421.228571\n",
      "dtype: float64\n"
     ]
    }
   ],
   "source": [
    "import pandas as pd\n",
    "import numpy as np\n",
    "import matplotlib.pyplot as plt\n",
    "import seaborn as sns\n",
    "\n",
    "\n",
    "df = pd.read_csv('SofwareDeveloperIncomeExpensesperUSACity.csv')\n",
    "mean_salary = (df.mean(numeric_only=True))\n",
    "print('Mean salary: $', mean_salary)\n",
    "\n",
    "\n",
    "\n"
   ]
  },
  {
   "cell_type": "code",
   "execution_count": 14,
   "id": "436749de-c06c-468a-8693-3cdd73eb1e59",
   "metadata": {},
   "outputs": [
    {
     "name": "stdout",
     "output_type": "stream",
     "text": [
      "Median salary: $ Unnamed: 0                                         38.0\n",
      "Mean Software Developer Salary (adjusted)      101256.0\n",
      "Mean Software Developer Salary (unadjusted)    100614.0\n",
      "Mean Unadjusted Salary (all occupations)        51050.0\n",
      "Number of Software Developer Jobs                8770.0\n",
      "Median Home Price                              243700.0\n",
      "Cost of Living avg                                995.0\n",
      "Rent avg                                         1625.8\n",
      "Cost of Living Plus Rent avg                     2999.9\n",
      "Local Purchasing Power avg                       7499.0\n",
      "dtype: float64\n"
     ]
    }
   ],
   "source": [
    "median_salary = (df.median(numeric_only=True))\n",
    "print('Median salary: $', median_salary)"
   ]
  },
  {
   "cell_type": "code",
   "execution_count": 15,
   "id": "e234f726-e7ec-43f1-98a6-8466807ab6dc",
   "metadata": {},
   "outputs": [
    {
     "name": "stdout",
     "output_type": "stream",
     "text": [
      "Standard deviation of salary: $ Unnamed: 0                                         22.371857\n",
      "Mean Software Developer Salary (adjusted)        8064.298677\n",
      "Mean Software Developer Salary (unadjusted)     13926.636588\n",
      "Mean Unadjusted Salary (all occupations)         7813.343788\n",
      "Number of Software Developer Jobs               23858.147274\n",
      "Median Home Price                              222743.310192\n",
      "Cost of Living avg                               2369.540953\n",
      "Rent avg                                         9118.805313\n",
      "Cost of Living Plus Rent avg                    20325.065018\n",
      "Local Purchasing Power avg                       1327.443694\n",
      "dtype: float64\n"
     ]
    }
   ],
   "source": [
    "std_salary = (df.std(numeric_only=True))\n",
    "print('Standard deviation of salary: $', std_salary)"
   ]
  },
  {
   "cell_type": "code",
   "execution_count": 16,
   "id": "8188e56e-b153-4d58-9051-31fff2e44133",
   "metadata": {},
   "outputs": [
    {
     "name": "stdout",
     "output_type": "stream",
     "text": [
      "Mode salary: $     Unnamed: 0  Mean Software Developer Salary (adjusted)  \\\n",
      "0            0                                    88249.0   \n",
      "1            1                                    96686.0   \n",
      "2            2                                   102188.0   \n",
      "3            3                                   103177.0   \n",
      "4            4                                   104335.0   \n",
      "..         ...                                        ...   \n",
      "72          72                                        NaN   \n",
      "73          73                                        NaN   \n",
      "74          74                                        NaN   \n",
      "75          75                                        NaN   \n",
      "76          76                                        NaN   \n",
      "\n",
      "    Mean Software Developer Salary (unadjusted)  \\\n",
      "0                                       88732.0   \n",
      "1                                       95662.0   \n",
      "2                                      100804.0   \n",
      "3                                      106108.0   \n",
      "4                                      111113.0   \n",
      "..                                          ...   \n",
      "72                                          NaN   \n",
      "73                                          NaN   \n",
      "74                                          NaN   \n",
      "75                                          NaN   \n",
      "76                                          NaN   \n",
      "\n",
      "    Mean Unadjusted Salary (all occupations)  \\\n",
      "0                                    48240.0   \n",
      "1                                    50520.0   \n",
      "2                                    52590.0   \n",
      "3                                    56160.0   \n",
      "4                                    57890.0   \n",
      "..                                       ...   \n",
      "72                                       NaN   \n",
      "73                                       NaN   \n",
      "74                                       NaN   \n",
      "75                                       NaN   \n",
      "76                                       NaN   \n",
      "\n",
      "    Number of Software Developer Jobs  Median Home Price  Cost of Living avg  \\\n",
      "0                              1220.0           243900.0             15809.2   \n",
      "1                              1590.0           266600.0                 NaN   \n",
      "2                              1770.0           283400.0                 NaN   \n",
      "3                              4950.0           397400.0                 NaN   \n",
      "4                             13740.0           442500.0                 NaN   \n",
      "..                                ...                ...                 ...   \n",
      "72                                NaN                NaN                 NaN   \n",
      "73                                NaN                NaN                 NaN   \n",
      "74                                NaN                NaN                 NaN   \n",
      "75                                NaN                NaN                 NaN   \n",
      "76                                NaN                NaN                 NaN   \n",
      "\n",
      "    Rent avg  Cost of Living Plus Rent avg  Local Purchasing Power avg  \n",
      "0    58597.6                      130097.8                      4840.1  \n",
      "1        NaN                           NaN                      4887.7  \n",
      "2        NaN                           NaN                      5098.7  \n",
      "3        NaN                           NaN                      5164.1  \n",
      "4        NaN                           NaN                      5240.6  \n",
      "..       ...                           ...                         ...  \n",
      "72       NaN                           NaN                      9711.8  \n",
      "73       NaN                           NaN                      9762.4  \n",
      "74       NaN                           NaN                      9872.2  \n",
      "75       NaN                           NaN                     10530.6  \n",
      "76       NaN                           NaN                     10673.7  \n",
      "\n",
      "[77 rows x 10 columns]\n"
     ]
    }
   ],
   "source": [
    "mode_salary = (df.mode(numeric_only=True))\n",
    "print('Mode salary: $', mode_salary)"
   ]
  },
  {
   "cell_type": "code",
   "execution_count": 17,
   "id": "b37cef93-dbd4-4ad5-8ad2-d35f00aacb55",
   "metadata": {},
   "outputs": [
    {
     "name": "stdout",
     "output_type": "stream",
     "text": [
      "Variance salary: $ Unnamed: 0                                     5.005000e+02\n",
      "Mean Software Developer Salary (adjusted)      6.503291e+07\n",
      "Mean Software Developer Salary (unadjusted)    1.939512e+08\n",
      "Mean Unadjusted Salary (all occupations)       6.104834e+07\n",
      "Number of Software Developer Jobs              5.692112e+08\n",
      "Median Home Price                              4.961458e+10\n",
      "Cost of Living avg                             5.614724e+06\n",
      "Rent avg                                       8.315261e+07\n",
      "Cost of Living Plus Rent avg                   4.131083e+08\n",
      "Local Purchasing Power avg                     1.762107e+06\n",
      "dtype: float64\n"
     ]
    }
   ],
   "source": [
    "variance_salary = df.var(numeric_only=True)\n",
    "print('Variance salary: $', variance_salary)"
   ]
  },
  {
   "cell_type": "code",
   "execution_count": 23,
   "id": "72349cd8-7162-4b3c-953a-8383fb66b6a8",
   "metadata": {},
   "outputs": [
    {
     "name": "stdout",
     "output_type": "stream",
     "text": [
      "Quantile Q1 salary: $ Unnamed: 0                                         19.0\n",
      "Mean Software Developer Salary (adjusted)       95308.0\n",
      "Mean Software Developer Salary (unadjusted)     91976.0\n",
      "Mean Unadjusted Salary (all occupations)        48240.0\n",
      "Number of Software Developer Jobs                3170.0\n",
      "Median Home Price                              178400.0\n",
      "Cost of Living avg                                957.3\n",
      "Rent avg                                         1340.5\n",
      "Cost of Living Plus Rent avg                     2810.8\n",
      "Local Purchasing Power avg                       6464.2\n",
      "Name: 0.25, dtype: float64\n"
     ]
    }
   ],
   "source": [
    "quantile_salary = (df.quantile(0.25, numeric_only=True)) # Q1\n",
    "print('Quantile Q1 salary: $', quantile_salary)"
   ]
  },
  {
   "cell_type": "code",
   "execution_count": 24,
   "id": "d1eaf2b9-01fd-413e-becd-880de981879e",
   "metadata": {},
   "outputs": [
    {
     "name": "stdout",
     "output_type": "stream",
     "text": [
      "Quantile Q2 salary: $ Unnamed: 0                                         38.0\n",
      "Mean Software Developer Salary (adjusted)      101256.0\n",
      "Mean Software Developer Salary (unadjusted)    100614.0\n",
      "Mean Unadjusted Salary (all occupations)        51050.0\n",
      "Number of Software Developer Jobs                8770.0\n",
      "Median Home Price                              243700.0\n",
      "Cost of Living avg                                995.0\n",
      "Rent avg                                         1625.8\n",
      "Cost of Living Plus Rent avg                     2999.9\n",
      "Local Purchasing Power avg                       7499.0\n",
      "Name: 0.5, dtype: float64\n"
     ]
    }
   ],
   "source": [
    "quantile_salaryQ = (df.quantile(0.5, numeric_only=True)) # Q2\n",
    "print('Quantile Q2 salary: $', quantile_salaryQ)"
   ]
  },
  {
   "cell_type": "code",
   "execution_count": 25,
   "id": "2b0e7e3a-7530-4546-b54e-87a29f673e31",
   "metadata": {},
   "outputs": [
    {
     "name": "stdout",
     "output_type": "stream",
     "text": [
      "Quantile Q3 salary: $ Unnamed: 0                                         57.0\n",
      "Mean Software Developer Salary (adjusted)      107170.0\n",
      "Mean Software Developer Salary (unadjusted)    109503.0\n",
      "Mean Unadjusted Salary (all occupations)        56160.0\n",
      "Number of Software Developer Jobs               21160.0\n",
      "Median Home Price                              366000.0\n",
      "Cost of Living avg                               1086.0\n",
      "Rent avg                                         2171.9\n",
      "Cost of Living Plus Rent avg                     3446.9\n",
      "Local Purchasing Power avg                       8153.1\n",
      "Name: 0.75, dtype: float64\n"
     ]
    }
   ],
   "source": [
    "quantile_salaryQQ = (df.quantile(0.75, numeric_only=True)) # Q3\n",
    "print('Quantile Q3 salary: $', quantile_salaryQQ)"
   ]
  },
  {
   "cell_type": "code",
   "execution_count": 26,
   "id": "60509f74-d2d9-4032-911b-01483997871b",
   "metadata": {},
   "outputs": [
    {
     "name": "stdout",
     "output_type": "stream",
     "text": [
      "Interquartile Salary: $ Unnamed: 0                                         38.0\n",
      "Mean Software Developer Salary (adjusted)       11862.0\n",
      "Mean Software Developer Salary (unadjusted)     17527.0\n",
      "Mean Unadjusted Salary (all occupations)         7920.0\n",
      "Number of Software Developer Jobs               17990.0\n",
      "Median Home Price                              187600.0\n",
      "Cost of Living avg                                128.7\n",
      "Rent avg                                          831.4\n",
      "Cost of Living Plus Rent avg                      636.1\n",
      "Local Purchasing Power avg                       1688.9\n",
      "dtype: float64\n"
     ]
    }
   ],
   "source": [
    "Interquartile = quantile_salaryQQ - quantile_salary\n",
    "print('Interquartile Salary: $', Interquartile)"
   ]
  },
  {
   "cell_type": "code",
   "execution_count": 29,
   "id": "60199fba-81a6-424c-aba1-e0ce317bc093",
   "metadata": {},
   "outputs": [
    {
     "name": "stdout",
     "output_type": "stream",
     "text": [
      "Min Salary: $ Unnamed: 0                                          0.0\n",
      "Mean Software Developer Salary (adjusted)       72811.0\n",
      "Mean Software Developer Salary (unadjusted)     80314.0\n",
      "Mean Unadjusted Salary (all occupations)        44500.0\n",
      "Number of Software Developer Jobs                1120.0\n",
      "Median Home Price                              124100.0\n",
      "Cost of Living avg                                832.5\n",
      "Rent avg                                          879.3\n",
      "Cost of Living Plus Rent avg                     2241.4\n",
      "Local Purchasing Power avg                       4840.1\n",
      "dtype: float64\n"
     ]
    }
   ],
   "source": [
    "min_salary = (df.min(numeric_only=True))\n",
    "print('Min Salary: $', min_salary)"
   ]
  },
  {
   "cell_type": "code",
   "execution_count": 30,
   "id": "08b3bed9-c5b7-46a3-83d9-85d58d12e204",
   "metadata": {},
   "outputs": [
    {
     "name": "stdout",
     "output_type": "stream",
     "text": [
      "Max Salary: $ Unnamed: 0                                          76.0\n",
      "Mean Software Developer Salary (adjusted)       117552.0\n",
      "Mean Software Developer Salary (unadjusted)     142101.0\n",
      "Mean Unadjusted Salary (all occupations)         80480.0\n",
      "Number of Software Developer Jobs                98650.0\n",
      "Median Home Price                              1193600.0\n",
      "Cost of Living avg                               15809.2\n",
      "Rent avg                                         58597.6\n",
      "Cost of Living Plus Rent avg                    130097.8\n",
      "Local Purchasing Power avg                       10673.7\n",
      "dtype: float64\n"
     ]
    }
   ],
   "source": [
    "max_salary = (df.max(numeric_only=True))\n",
    "print('Max Salary: $', max_salary)"
   ]
  },
  {
   "cell_type": "code",
   "execution_count": 28,
   "id": "4a461a2f-8d98-4079-88a8-e6b7b063d54d",
   "metadata": {},
   "outputs": [
    {
     "name": "stdout",
     "output_type": "stream",
     "text": [
      "Salary Range: $ Unnamed: 0                                          76.0\n",
      "Mean Software Developer Salary (adjusted)        44741.0\n",
      "Mean Software Developer Salary (unadjusted)      61787.0\n",
      "Mean Unadjusted Salary (all occupations)         35980.0\n",
      "Number of Software Developer Jobs                97530.0\n",
      "Median Home Price                              1069500.0\n",
      "Cost of Living avg                               14976.7\n",
      "Rent avg                                         57718.3\n",
      "Cost of Living Plus Rent avg                    127856.4\n",
      "Local Purchasing Power avg                        5833.6\n",
      "dtype: float64\n"
     ]
    }
   ],
   "source": [
    "range_salary = max_salary - min_salary\n",
    "print('Salary Range: $', range_salary)"
   ]
  },
  {
   "cell_type": "code",
   "execution_count": 31,
   "id": "603b2aba-b1c4-4851-95a3-3a7504ca6e25",
   "metadata": {},
   "outputs": [
    {
     "name": "stdout",
     "output_type": "stream",
     "text": [
      "Count Salary: $ Unnamed: 0                                     77\n",
      "Mean Software Developer Salary (adjusted)      77\n",
      "Mean Software Developer Salary (unadjusted)    77\n",
      "Mean Unadjusted Salary (all occupations)       77\n",
      "Number of Software Developer Jobs              77\n",
      "Median Home Price                              77\n",
      "Cost of Living avg                             77\n",
      "Rent avg                                       77\n",
      "Cost of Living Plus Rent avg                   77\n",
      "Local Purchasing Power avg                     77\n",
      "dtype: int64\n"
     ]
    }
   ],
   "source": [
    "count_salary = (df.count(numeric_only=True))\n",
    "print('Count Salary: $', count_salary)"
   ]
  },
  {
   "cell_type": "code",
   "execution_count": 32,
   "id": "ce08d220-ce15-4d3b-a1ef-38d4777a1adb",
   "metadata": {},
   "outputs": [
    {
     "name": "stdout",
     "output_type": "stream",
     "text": [
      "Skewness Salary: $ Unnamed: 0                                     0.000000\n",
      "Mean Software Developer Salary (adjusted)     -0.397321\n",
      "Mean Software Developer Salary (unadjusted)    1.017434\n",
      "Mean Unadjusted Salary (all occupations)       1.692280\n",
      "Number of Software Developer Jobs              1.774281\n",
      "Median Home Price                              2.391391\n",
      "Cost of Living avg                             6.052074\n",
      "Rent avg                                       6.024746\n",
      "Cost of Living Plus Rent avg                   6.069686\n",
      "Local Purchasing Power avg                     0.230545\n",
      "dtype: float64\n"
     ]
    }
   ],
   "source": [
    "skewness_salary = (df.skew(numeric_only=True))\n",
    "print('Skewness Salary: $', skewness_salary)"
   ]
  },
  {
   "cell_type": "code",
   "execution_count": 33,
   "id": "78eb338c-fa2b-4c00-be86-3c3282e98dfe",
   "metadata": {},
   "outputs": [
    {
     "name": "stdout",
     "output_type": "stream",
     "text": [
      "Kurtosis Salary: $ Unnamed: 0                                     -1.200000\n",
      "Mean Software Developer Salary (adjusted)       0.693371\n",
      "Mean Software Developer Salary (unadjusted)     1.050336\n",
      "Mean Unadjusted Salary (all occupations)        3.076909\n",
      "Number of Software Developer Jobs               2.485413\n",
      "Median Home Price                               6.153149\n",
      "Cost of Living avg                             35.668607\n",
      "Rent avg                                       35.444612\n",
      "Cost of Living Plus Rent avg                   35.812428\n",
      "Local Purchasing Power avg                     -0.259867\n",
      "dtype: float64\n"
     ]
    }
   ],
   "source": [
    "kurtosis_salary = (df.kurt(numeric_only=True))\n",
    "print('Kurtosis Salary: $', kurtosis_salary)"
   ]
  },
  {
   "cell_type": "code",
   "execution_count": 34,
   "id": "f3111028-63fd-40c3-bb5f-36be989676dc",
   "metadata": {},
   "outputs": [
    {
     "name": "stdout",
     "output_type": "stream",
     "text": [
      "Correlation Salary: $ 0.6187478623168966\n"
     ]
    }
   ],
   "source": [
    "correlation_salary = df['Mean Software Developer Salary (adjusted)'].corr(df['Mean Software Developer Salary (unadjusted)'])\n",
    "print('Correlation Salary: $', correlation_salary)"
   ]
  },
  {
   "cell_type": "code",
   "execution_count": 35,
   "id": "a0bc8f70-0010-4936-9d52-61305ae2a8da",
   "metadata": {},
   "outputs": [
    {
     "name": "stdout",
     "output_type": "stream",
     "text": [
      "Covariance Salary: $ 69490679.57125768\n"
     ]
    }
   ],
   "source": [
    "covariance_salary = df['Mean Software Developer Salary (adjusted)'].cov(df['Mean Software Developer Salary (unadjusted)'])\n",
    "print('Covariance Salary: $', covariance_salary)"
   ]
  },
  {
   "cell_type": "code",
   "execution_count": 41,
   "id": "9c945757-d17d-4cdd-a2d3-150ae1b6f81b",
   "metadata": {},
   "outputs": [
    {
     "name": "stdout",
     "output_type": "stream",
     "text": [
      "Percentiles Salary: $ Unnamed: 0                                         72.20\n",
      "Mean Software Developer Salary (adjusted)      111716.40\n",
      "Mean Software Developer Salary (unadjusted)    132413.00\n",
      "Mean Unadjusted Salary (all occupations)        71264.00\n",
      "Number of Software Developer Jobs               68354.00\n",
      "Median Home Price                              731900.00\n",
      "Cost of Living avg                               1356.50\n",
      "Rent avg                                         3544.72\n",
      "Cost of Living Plus Rent avg                     4854.50\n",
      "Local Purchasing Power avg                       9721.92\n",
      "Name: 0.95, dtype: float64\n"
     ]
    }
   ],
   "source": [
    "percentiles_salary = (df.quantile(0.95, numeric_only=True)) # 95th percentile\n",
    "print('Percentiles Salary: $', percentiles_salary)"
   ]
  },
  {
   "cell_type": "code",
   "execution_count": 42,
   "id": "f33576b9-70db-44cf-be60-c027b9f90cad",
   "metadata": {},
   "outputs": [
    {
     "data": {
      "text/html": [
       "<div>\n",
       "<style scoped>\n",
       "    .dataframe tbody tr th:only-of-type {\n",
       "        vertical-align: middle;\n",
       "    }\n",
       "\n",
       "    .dataframe tbody tr th {\n",
       "        vertical-align: top;\n",
       "    }\n",
       "\n",
       "    .dataframe thead th {\n",
       "        text-align: right;\n",
       "    }\n",
       "</style>\n",
       "<table border=\"1\" class=\"dataframe\">\n",
       "  <thead>\n",
       "    <tr style=\"text-align: right;\">\n",
       "      <th></th>\n",
       "      <th>Unnamed: 0</th>\n",
       "      <th>Mean Software Developer Salary (adjusted)</th>\n",
       "      <th>Mean Software Developer Salary (unadjusted)</th>\n",
       "      <th>Mean Unadjusted Salary (all occupations)</th>\n",
       "      <th>Number of Software Developer Jobs</th>\n",
       "      <th>Median Home Price</th>\n",
       "      <th>Cost of Living avg</th>\n",
       "      <th>Rent avg</th>\n",
       "      <th>Cost of Living Plus Rent avg</th>\n",
       "      <th>Local Purchasing Power avg</th>\n",
       "    </tr>\n",
       "  </thead>\n",
       "  <tbody>\n",
       "    <tr>\n",
       "      <th>count</th>\n",
       "      <td>77.000000</td>\n",
       "      <td>77.000000</td>\n",
       "      <td>77.000000</td>\n",
       "      <td>77.000000</td>\n",
       "      <td>77.000000</td>\n",
       "      <td>7.700000e+01</td>\n",
       "      <td>77.000000</td>\n",
       "      <td>77.000000</td>\n",
       "      <td>77.000000</td>\n",
       "      <td>77.000000</td>\n",
       "    </tr>\n",
       "    <tr>\n",
       "      <th>mean</th>\n",
       "      <td>38.000000</td>\n",
       "      <td>100832.974026</td>\n",
       "      <td>101866.207792</td>\n",
       "      <td>53277.272727</td>\n",
       "      <td>19098.571429</td>\n",
       "      <td>3.127013e+05</td>\n",
       "      <td>1414.057143</td>\n",
       "      <td>3280.429870</td>\n",
       "      <td>6506.988312</td>\n",
       "      <td>7421.228571</td>\n",
       "    </tr>\n",
       "    <tr>\n",
       "      <th>std</th>\n",
       "      <td>22.371857</td>\n",
       "      <td>8064.298677</td>\n",
       "      <td>13926.636588</td>\n",
       "      <td>7813.343788</td>\n",
       "      <td>23858.147274</td>\n",
       "      <td>2.227433e+05</td>\n",
       "      <td>2369.540953</td>\n",
       "      <td>9118.805313</td>\n",
       "      <td>20325.065018</td>\n",
       "      <td>1327.443694</td>\n",
       "    </tr>\n",
       "    <tr>\n",
       "      <th>min</th>\n",
       "      <td>0.000000</td>\n",
       "      <td>72811.000000</td>\n",
       "      <td>80314.000000</td>\n",
       "      <td>44500.000000</td>\n",
       "      <td>1120.000000</td>\n",
       "      <td>1.241000e+05</td>\n",
       "      <td>832.500000</td>\n",
       "      <td>879.300000</td>\n",
       "      <td>2241.400000</td>\n",
       "      <td>4840.100000</td>\n",
       "    </tr>\n",
       "    <tr>\n",
       "      <th>25%</th>\n",
       "      <td>19.000000</td>\n",
       "      <td>95308.000000</td>\n",
       "      <td>91976.000000</td>\n",
       "      <td>48240.000000</td>\n",
       "      <td>3170.000000</td>\n",
       "      <td>1.784000e+05</td>\n",
       "      <td>957.300000</td>\n",
       "      <td>1340.500000</td>\n",
       "      <td>2810.800000</td>\n",
       "      <td>6464.200000</td>\n",
       "    </tr>\n",
       "    <tr>\n",
       "      <th>50%</th>\n",
       "      <td>38.000000</td>\n",
       "      <td>101256.000000</td>\n",
       "      <td>100614.000000</td>\n",
       "      <td>51050.000000</td>\n",
       "      <td>8770.000000</td>\n",
       "      <td>2.437000e+05</td>\n",
       "      <td>995.000000</td>\n",
       "      <td>1625.800000</td>\n",
       "      <td>2999.900000</td>\n",
       "      <td>7499.000000</td>\n",
       "    </tr>\n",
       "    <tr>\n",
       "      <th>75%</th>\n",
       "      <td>57.000000</td>\n",
       "      <td>107170.000000</td>\n",
       "      <td>109503.000000</td>\n",
       "      <td>56160.000000</td>\n",
       "      <td>21160.000000</td>\n",
       "      <td>3.660000e+05</td>\n",
       "      <td>1086.000000</td>\n",
       "      <td>2171.900000</td>\n",
       "      <td>3446.900000</td>\n",
       "      <td>8153.100000</td>\n",
       "    </tr>\n",
       "    <tr>\n",
       "      <th>max</th>\n",
       "      <td>76.000000</td>\n",
       "      <td>117552.000000</td>\n",
       "      <td>142101.000000</td>\n",
       "      <td>80480.000000</td>\n",
       "      <td>98650.000000</td>\n",
       "      <td>1.193600e+06</td>\n",
       "      <td>15809.200000</td>\n",
       "      <td>58597.600000</td>\n",
       "      <td>130097.800000</td>\n",
       "      <td>10673.700000</td>\n",
       "    </tr>\n",
       "  </tbody>\n",
       "</table>\n",
       "</div>"
      ],
      "text/plain": [
       "       Unnamed: 0  Mean Software Developer Salary (adjusted)  \\\n",
       "count   77.000000                                  77.000000   \n",
       "mean    38.000000                              100832.974026   \n",
       "std     22.371857                                8064.298677   \n",
       "min      0.000000                               72811.000000   \n",
       "25%     19.000000                               95308.000000   \n",
       "50%     38.000000                              101256.000000   \n",
       "75%     57.000000                              107170.000000   \n",
       "max     76.000000                              117552.000000   \n",
       "\n",
       "       Mean Software Developer Salary (unadjusted)  \\\n",
       "count                                    77.000000   \n",
       "mean                                 101866.207792   \n",
       "std                                   13926.636588   \n",
       "min                                   80314.000000   \n",
       "25%                                   91976.000000   \n",
       "50%                                  100614.000000   \n",
       "75%                                  109503.000000   \n",
       "max                                  142101.000000   \n",
       "\n",
       "       Mean Unadjusted Salary (all occupations)  \\\n",
       "count                                 77.000000   \n",
       "mean                               53277.272727   \n",
       "std                                 7813.343788   \n",
       "min                                44500.000000   \n",
       "25%                                48240.000000   \n",
       "50%                                51050.000000   \n",
       "75%                                56160.000000   \n",
       "max                                80480.000000   \n",
       "\n",
       "       Number of Software Developer Jobs  Median Home Price  \\\n",
       "count                          77.000000       7.700000e+01   \n",
       "mean                        19098.571429       3.127013e+05   \n",
       "std                         23858.147274       2.227433e+05   \n",
       "min                          1120.000000       1.241000e+05   \n",
       "25%                          3170.000000       1.784000e+05   \n",
       "50%                          8770.000000       2.437000e+05   \n",
       "75%                         21160.000000       3.660000e+05   \n",
       "max                         98650.000000       1.193600e+06   \n",
       "\n",
       "       Cost of Living avg      Rent avg  Cost of Living Plus Rent avg  \\\n",
       "count           77.000000     77.000000                     77.000000   \n",
       "mean          1414.057143   3280.429870                   6506.988312   \n",
       "std           2369.540953   9118.805313                  20325.065018   \n",
       "min            832.500000    879.300000                   2241.400000   \n",
       "25%            957.300000   1340.500000                   2810.800000   \n",
       "50%            995.000000   1625.800000                   2999.900000   \n",
       "75%           1086.000000   2171.900000                   3446.900000   \n",
       "max          15809.200000  58597.600000                 130097.800000   \n",
       "\n",
       "       Local Purchasing Power avg  \n",
       "count                   77.000000  \n",
       "mean                  7421.228571  \n",
       "std                   1327.443694  \n",
       "min                   4840.100000  \n",
       "25%                   6464.200000  \n",
       "50%                   7499.000000  \n",
       "75%                   8153.100000  \n",
       "max                  10673.700000  "
      ]
     },
     "execution_count": 42,
     "metadata": {},
     "output_type": "execute_result"
    }
   ],
   "source": [
    "df.describe()"
   ]
  },
  {
   "cell_type": "code",
   "execution_count": 43,
   "id": "fa2981e2-a7c3-4d0b-af1a-5576f0ae866e",
   "metadata": {},
   "outputs": [
    {
     "data": {
      "image/png": "[encoded data removed]",
      "text/plain": [
       "<Figure size 640x480 with 1 Axes>"
      ]
     },
     "metadata": {},
     "output_type": "display_data"
    }
   ],
   "source": [
    "plt.hist(df['Mean Software Developer Salary (adjusted)'], bins=20)\n",
    "plt.title('Distribution of Salaries Adjusted')\n",
    "plt.xlabel('Mean Software Developer Salary (unadjusted)')\n",
    "plt.ylabel('Frequency(Unadjusted)')\n",
    "plt.show()"
   ]
  },
  {
   "cell_type": "code",
   "execution_count": 44,
   "id": "153c58a9-c7ae-43e1-bb6b-b9ef0cb7f188",
   "metadata": {},
   "outputs": [
    {
     "data": {
      "image/png": "[encoded data removed]",
      "text/plain": [
       "<Figure size 640x480 with 1 Axes>"
      ]
     },
     "metadata": {},
     "output_type": "display_data"
    }
   ],
   "source": [
    "plt.hist(df['Number of Software Developer Jobs'], bins=20)\n",
    "plt.title('Number Of Software Jobs')\n",
    "plt.xlabel('Number of Jobs')\n",
    "plt.ylabel('Frequency')\n",
    "plt.show()"
   ]
  },
  {
   "cell_type": "code",
   "execution_count": 45,
   "id": "511fab9e-a1aa-4c6e-b805-fc1592984599",
   "metadata": {},
   "outputs": [
    {
     "data": {
      "image/png": "[encoded data removed]",
      "text/plain": [
       "<Figure size 640x480 with 1 Axes>"
      ]
     },
     "metadata": {},
     "output_type": "display_data"
    }
   ],
   "source": [
    "plt.hist(df['Cost of Living avg'], bins=20)\n",
    "plt.title('Cost of Living avg')\n",
    "plt.xlabel('Cost')\n",
    "plt.ylabel('Frequency')\n",
    "plt.show()"
   ]
  },
  {
   "cell_type": "code",
   "execution_count": 46,
   "id": "ba7af604-59ae-4470-8de7-184200cf2e15",
   "metadata": {},
   "outputs": [
    {
     "data": {
      "image/png": "[encoded data removed]",
      "text/plain": [
       "<Figure size 640x480 with 1 Axes>"
      ]
     },
     "metadata": {},
     "output_type": "display_data"
    }
   ],
   "source": [
    "plt.hist(df['Cost of Living Plus Rent avg'], bins=20)\n",
    "plt.title('Cost of Living avg Plus Rent')\n",
    "plt.xlabel('Cost')\n",
    "plt.ylabel('Frequency')\n",
    "plt.show()"
   ]
  },
  {
   "cell_type": "code",
   "execution_count": null,
   "id": "1c5a5ee9-e076-4a22-9f5d-e1b7b2d44b19",
   "metadata": {},
   "outputs": [],
   "source": []
  }
 ],
 "metadata": {
  "kernelspec": {
   "display_name": "Python 3 (ipykernel)",
   "language": "python",
   "name": "python3"
  },
  "language_info": {
   "codemirror_mode": {
    "name": "ipython",
    "version": 3
   },
   "file_extension": ".py",
   "mimetype": "text/x-python",
   "name": "python",
   "nbconvert_exporter": "python",
   "pygments_lexer": "ipython3",
   "version": "3.10.9"
  }
 },
 "nbformat": 4,
 "nbformat_minor": 5
}
